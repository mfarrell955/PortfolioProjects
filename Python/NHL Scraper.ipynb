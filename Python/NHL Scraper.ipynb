{
 "cells": [
  {
   "cell_type": "code",
   "execution_count": 94,
   "id": "b54f6505",
   "metadata": {},
   "outputs": [],
   "source": [
    "import pandas as pd\n",
    "import datetime\n",
    "from random import randint\n",
    "from time import sleep\n",
    "import os #helps when exporting to csv. reads file on computer\n",
    "import ssl\n",
    "\n",
    "ssl._create_default_https_context = ssl._create_unverified_context"
   ]
  },
  {
   "cell_type": "code",
   "execution_count": 95,
   "id": "6728715f",
   "metadata": {},
   "outputs": [],
   "source": [
    "url = \"https://www.hockey-reference.com/leagues/NHL_2022_games.html\"\n",
    "dfs = pd.read_html(url)#dataframe\n",
    "df = dfs[0]\n",
    "dates = pd.to_datetime(df['Date'], format=\"%Y-%m-%d\").dt.date\n",
    "dates = pd.Series(dates).drop_duplicates().tolist()"
   ]
  },
  {
   "cell_type": "code",
   "execution_count": 98,
   "id": "7eb29689",
   "metadata": {},
   "outputs": [
    {
     "name": "stdout",
     "output_type": "stream",
     "text": [
      "complete\n"
     ]
    }
   ],
   "source": [
    "today = pd.Timestamp(\"today\").floor(\"D\")\n",
    "end_date = dates[-1]\n",
    "output_path = 'nhl_data.csv'\n",
    "for date in (dates):\n",
    "    nhl_url = f\"https://www.naturalstattrick.com/teamtable.php?fromseason=20212022&thruseason=20212022&stype=2&sit=ev&score=all&rate=y&team=all&loc=B&gpf=410&fd{date}=&td={date}\"\n",
    "    if(date<= end_date):\n",
    "        nhl_dfs = pd.read_html(nhl_url, index_col=0)\n",
    "        nhl_df = nhl_dfs[0]\n",
    "        nhl_df['Date'] = date\n",
    "        nhl_df.to_csv(output_path, mode='a', header = not os.path.exists(output_path), index = False)\n",
    "        sleep(randint(10,25))\n",
    "print(\"complete\")"
   ]
  },
  {
   "cell_type": "code",
   "execution_count": null,
   "id": "500e4cfd",
   "metadata": {},
   "outputs": [],
   "source": []
  }
 ],
 "metadata": {
  "kernelspec": {
   "display_name": "Python 3 (ipykernel)",
   "language": "python",
   "name": "python3"
  },
  "language_info": {
   "codemirror_mode": {
    "name": "ipython",
    "version": 3
   },
   "file_extension": ".py",
   "mimetype": "text/x-python",
   "name": "python",
   "nbconvert_exporter": "python",
   "pygments_lexer": "ipython3",
   "version": "3.10.9"
  }
 },
 "nbformat": 4,
 "nbformat_minor": 5
}
